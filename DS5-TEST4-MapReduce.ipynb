{
 "cells": [
  {
   "cell_type": "markdown",
   "metadata": {},
   "source": [
    "# <center>数据科学实训营第5期<center>\n",
    "### <CENTER>TEST4 第1部分 Map-Reduce练习题<center>\n",
    "### <center>作者：寒小阳<center>"
   ]
  },
  {
   "cell_type": "markdown",
   "metadata": {},
   "source": [
    "-------\n",
    "## >>>作业说明：\n",
    "### 1. 答题步骤：\n",
    "- 回答问题**请保留每一步**操作过程，请不要仅仅给出最后答案\n",
    "- 请养成代码注释的好习惯\n",
    "\n",
    "### 2. 解题思路：\n",
    "- 为方便大家准确理解题目，在习题实战中有所收获，本文档提供了解题思路提示\n",
    "- 解题思路**仅供参考**，鼓励原创解题方法\n",
    "- 为督促同学们自己思考，解题思路内容设置为**白色**，必要时请从冒号后拖动鼠标查看\n",
    "\n",
    "### 3. 所用数据：\n",
    "- 请注意导入数据库后先**查看和了解数据的基本性质**，后面的问题不再一一提醒"
   ]
  },
  {
   "cell_type": "markdown",
   "metadata": {},
   "source": [
    "--------\n",
    "## >>>作业提交：\n",
    "#### 邮箱：homework@xiniuedu.com\n",
    "- 以收到自动回复为准\n",
    "\n",
    "#### 邮件命名：**实训营-Test4_MapReduce-QQ号码-QQ群昵称**\n",
    "\n",
    "#### 提交方式：\n",
    "- 请将作业文档与相关数据、相关文件，以压缩包形式提交\n",
    "\n",
    "#### 提交时间：\n",
    "- 及时提交时间：2018年6月15日23:59\n",
    "- 本次作业满分10分，及时提交有0.5分的加分\n",
    "- 作业在2018年6月30日之前均可提交，不及时提交不扣分，但作业批改速度较慢，请理解"
   ]
  },
  {
   "cell_type": "markdown",
   "metadata": {},
   "source": [
    "---\n",
    "### 练习1：寻找共同朋友对的reduce过程"
   ]
  },
  {
   "cell_type": "markdown",
   "metadata": {},
   "source": [
    "有如下的数据，其中第一列为用户ID，后面数列为他的朋友ID： <br>\n",
    "A B C D E F <br>\n",
    "B A H C D E I <br>\n",
    "C B E G A J <br>\n",
    "D A B E <br>\n",
    "E H A B C D G <br>\n",
    "F A J G <br>\n",
    "G C E F I <br>\n",
    "H B J E <br>\n",
    "I G B <br>\n",
    "J H C F <br>\n",
    "\n",
    "编写map-reduce任务完成：找到所有有共同朋友的用户ID对 <br>\n",
    "生成格式为 (用户ID,用户ID 共同朋友ID) <br>\n",
    "B,C A <br>\n",
    "D,A E <br>"
   ]
  },
  {
   "cell_type": "markdown",
   "metadata": {
    "collapsed": true
   },
   "source": [
    "- 提示：<span style='color:white'>参照上课程序 count words </span>"
   ]
  },
  {
   "cell_type": "code",
   "execution_count": null,
   "metadata": {
    "collapsed": true
   },
   "outputs": [],
   "source": []
  },
  {
   "cell_type": "markdown",
   "metadata": {},
   "source": [
    "----\n",
    "### 练习2：编写map-reduce任务，完成下列日志处理的问题"
   ]
  },
  {
   "cell_type": "markdown",
   "metadata": {},
   "source": [
    "用户手机号\t出现的地点\t出现的时间\t逗留的时间 <br>\n",
    "111111111\t2\t2014-02-18 19:03:56.123445\t133 <br>\n",
    "222222222\t1\t2013-03-14 03:18:45.263536\t 241 <br>\n",
    "333333333\t3\t2014-10-23 17:14:23.176345\t 68 <br>\n",
    "222222222\t1\t2013-03-14 03:20:47.123445\t 145 <br>\n",
    "333333333\t3\t2014-09-15 15:24:56.222222\t 345 <br>\n",
    "222222222\t2\t2011-08-30 18:13:58.111111\t 145 <br>\n",
    "222222222\t2\t2011-08-30 18:18:24.222222\t 130 <br>\n",
    "\n",
    "期望生成的结果按照手机号分组，按照地点和出现时间排序： <br>\n",
    "222222222\t2\t 2011-08-30 18:13:58.111111\t 145 <br>\n",
    "222222222\t2\t2011-08-30 18:18:24.222222\t130 <br>\n",
    "222222222\t1\t 2013-03-14 03:18:45.263536\t 24 <br>\n",
    "111111111\t~~~~~~~~~~~~~~~~~ <br>\n",
    "333333333\t~~~~~~~~~~~~~~~~~ <br>"
   ]
  },
  {
   "cell_type": "markdown",
   "metadata": {},
   "source": [
    "- 提示：<span style='color:white'>设计思路: count words </span>\n",
    "<span style='color:white'>此处map reduce设计的数据格式为count words </span>\n",
    "<span style='color:white'>字符串左对齐，数字padding 0后右对齐count words </span>\n",
    "<span style='color:white'>key = 手机号 + 地点 + 日期 + 时间， 用于shuffle 排序count words </span>\n",
    "<span style='color:white'>value = 输入当前行的内容， 用于reduce 处理输出count words </span>\n",
    "<span style='color:white'>key + \"\\t\" + value, \\t间隔后，便于reduce分段处理count words </span>\n",
    "<span style='color:white'>map, shuffle 后的例子:count words </span>\n",
    "<span style='color:white'>111111111,,,,,,,,,,,,0000000002,2014-02-18,19:03:56.123445\t111111111\t2\t2014-02-18 19:03:56.123445\t133count words </span>"
   ]
  },
  {
   "cell_type": "code",
   "execution_count": null,
   "metadata": {
    "collapsed": true
   },
   "outputs": [],
   "source": []
  },
  {
   "cell_type": "markdown",
   "metadata": {},
   "source": [
    "-------------\n",
    "### 练习3：编写 map-reduce 任务，统计每一行最后字母的个数"
   ]
  },
  {
   "cell_type": "markdown",
   "metadata": {
    "collapsed": true
   },
   "source": [
    "有如下格式的日志：<br>\n",
    "id_a, id_b, id_c, id_d<br>\n",
    "id_a, id_a, id_f<br>\n",
    "id_b, id_b, id_d, id_f, id_a<br>\n",
    "id_m, id_n<br>\n",
    "\n",
    "编写 map-reduce 任务，统计每一行最后字母的个数"
   ]
  },
  {
   "cell_type": "markdown",
   "metadata": {
    "collapsed": true
   },
   "source": [
    "- 提示：<span style='color:white'>设计思路: count words </span>"
   ]
  },
  {
   "cell_type": "code",
   "execution_count": null,
   "metadata": {
    "collapsed": true
   },
   "outputs": [],
   "source": []
  },
  {
   "cell_type": "markdown",
   "metadata": {},
   "source": [
    "-------------\n",
    "### *选做* \n",
    "### 练习4：编写map-reduce任务对电商数据(user_session.data)进行分析"
   ]
  },
  {
   "cell_type": "markdown",
   "metadata": {
    "collapsed": true
   },
   "source": [
    "文件的格式为：<br>\n",
    "否买(是/否) 数据域(比如DAYOFWEEK):特征id(比如DAYOFWEEK4):特征值(比如1)<br>\n",
    "\n",
    "统计：<br>\n",
    "1）数据域、数据域下的特征id 在数据中出现了多少次<br>\n",
    "2）购买 和 非购买行为下，数据域下各特征出现的次数和百分比<br>"
   ]
  },
  {
   "cell_type": "code",
   "execution_count": null,
   "metadata": {
    "collapsed": true
   },
   "outputs": [],
   "source": [
    "# 设计思路:\n",
    "# 按不同任务，生成key-value，排序后，根据不同任务count，得到统计结果\n",
    "# 对百分比的计算，要先得到对应数据域的特征ID总数，可以设计一个前导计数任务\n",
    "# 这种做法解决了用list处理中间结果的问题，充分利用了硬盘容量\n",
    "#\n",
    "# 将上述统计在key的最前面标记为 :\n",
    "#\n",
    "# 1.统计数据域出现次数\n",
    "# T0:购买行为标志:数据域名  value = count 1\n",
    "#\n",
    "# 2.统计数据域下的特征ID出现次数\n",
    "# T1:购买行为标志:数据域名:特征ID   value = count 1\n",
    "#\n",
    "# 为统一三种任务，T0 T1 的购买行为标志设置为3, 就是包含买和不买\n",
    "#\n",
    "# 3.购买行为下数据域各特征ID出现的次数和百分比, 输出后按 0/1 购买与否统一排序\n",
    "# T2,购买行为标志:数据域名 value = count 1, 排序在本数据域最前面，可以先完成统计本数据域个数 reducer 处理是命名为T2.2\n",
    "# T2,购买行为标志:数据域名:特征ID   value = count 1  注意，此行任务排序是数据域聚合在一起，reducer处理时命名为T2.2,按 key参数个数分\n"
   ]
  }
 ],
 "metadata": {
  "kernelspec": {
   "display_name": "Python 2",
   "language": "python",
   "name": "python2"
  },
  "language_info": {
   "codemirror_mode": {
    "name": "ipython",
    "version": 2
   },
   "file_extension": ".py",
   "mimetype": "text/x-python",
   "name": "python",
   "nbconvert_exporter": "python",
   "pygments_lexer": "ipython2",
   "version": "2.7.13"
  }
 },
 "nbformat": 4,
 "nbformat_minor": 2
}
